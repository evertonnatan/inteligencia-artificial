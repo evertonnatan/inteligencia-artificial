{
 "cells": [
  {
   "cell_type": "markdown",
   "metadata": {
    "collapsed": true
   },
   "source": [
    "# <font color='blue'>Data Science Academy - Introdução à Inteligência Artificial</font>\n",
    "\n",
    "## Agentes"
   ]
  },
  {
   "cell_type": "markdown",
   "metadata": {},
   "source": [
    "Um agente, conforme definido no Capítulo 2, é qualquer coisa que possa perceber seu ambiente através de sensores e agir sobre esse ambiente através de atuadores baseados em seu programa de agente. Isto pode ser um cão, um robô, ou mesmo você. Enquanto você pode perceber o ambiente e agir sobre ele, você é um agente. Este procedimento explicará como implementar um agente simples, criar um ambiente e criar um programa que ajude o agente a agir sobre o ambiente com base em suas percepções."
   ]
  },
  {
   "cell_type": "markdown",
   "metadata": {},
   "source": [
    "Vamos começar importando todas as funções do módulo agentes.py e criando nosso primeiro agente - um cão robô."
   ]
  },
  {
   "cell_type": "code",
   "execution_count": null,
   "metadata": {},
   "outputs": [],
   "source": [
    "# Importa o módulo com a especificação do agente\n",
    "from agentes import *"
   ]
  },
  {
   "cell_type": "code",
   "execution_count": null,
   "metadata": {},
   "outputs": [],
   "source": [
    "# Cria uma classe a partir do módulo agente\n",
    "class RoboDog(Agent):\n",
    "    def eat(self, thing):\n",
    "        print(\"RoboDog: recebeu comida às {}.\".format(self.location))\n",
    "            \n",
    "    def drink(self, thing):\n",
    "        print(\"RoboDog: bebeu água às {}.\".format( self.location))"
   ]
  },
  {
   "cell_type": "code",
   "execution_count": null,
   "metadata": {},
   "outputs": [],
   "source": [
    "dog = RoboDog()"
   ]
  },
  {
   "cell_type": "markdown",
   "metadata": {},
   "source": [
    "O que acabamos de fazer é criar um cão que só pode sentir o que está em sua localização (ele é um robô limitado), e pode comer ou beber. Vamos ver se ele está vivo ..."
   ]
  },
  {
   "cell_type": "code",
   "execution_count": null,
   "metadata": {},
   "outputs": [],
   "source": [
    "print(dog.alive)"
   ]
  },
  {
   "cell_type": "markdown",
   "metadata": {},
   "source": [
    "![Cool dog](AIBO.jpg)\n",
    "\n",
    "Este é o nosso Robô Cão. Não é legal? Bem, ele está com fome e precisa ir procurar comida. Para que ele faça isso, precisamos dar-lhe um programa. Mas antes disso, vamos criar um parque para o nosso cão brincar (esse será nosso ambiente).\n"
   ]
  },
  {
   "cell_type": "code",
   "execution_count": null,
   "metadata": {},
   "outputs": [],
   "source": [
    "# Classes herdadas a partir da classe Thing\n",
    "\n",
    "class Food(Thing):\n",
    "    pass\n",
    "\n",
    "class Water(Thing):\n",
    "    pass\n",
    "\n",
    "class Park(Environment):\n",
    "    def percept(self, agent):\n",
    "        '''Imprime e retorna uma lista de coisas que estão na localização do nosso agente'''\n",
    "        things = self.list_things_at(agent.location)\n",
    "        print(things)\n",
    "        return things\n",
    "    \n",
    "    def execute_action(self, agent, action):\n",
    "        '''Altera o estado do ambiente com base no que o agente faz.'''\n",
    "        if action == \"move down\":\n",
    "            agent.movedown()\n",
    "        elif action == \"eat\":\n",
    "            items = self.list_things_at(agent.location, tclass=Food)\n",
    "            if len(items) != 0:\n",
    "                if agent.eat(items[0]): # Fazer a escolha do cão comer o primeiro item\n",
    "                    self.delete_thing(items[0]) # Delete-o do parque depois.\n",
    "        elif action == \"drink\":\n",
    "            items = self.list_things_at(agent.location, tclass=Water)\n",
    "            if len(items) != 0:\n",
    "                if agent.drink(items[0]): # Fazer a escolha do cão beber o primeiro item\n",
    "                    self.delete_thing(items[0]) # Delete-o do parque depois.\n",
    "                    \n",
    "    def is_done(self):\n",
    "        '''Por padrão, o ambiente termina quando não podemos encontrar um agente vivo,\n",
    "         mas para evitar matar o nosso cão robô, o ambiente termina apenas quando não há mais comida ou água'''\n",
    "        no_edibles = not any(isinstance(thing, Food) or isinstance(thing, Water) for thing in self.things)\n",
    "        dead_agents = not any(agent.is_alive() for agent in self.agents)\n",
    "        return dead_agents or no_edibles"
   ]
  },
  {
   "cell_type": "markdown",
   "metadata": {},
   "source": [
    "# Programa #\n",
    "Agora que temos uma classe Park, precisamos implementar um módulo programa para o nosso cão. Um programa controla como o cão age sobre seu ambiente. Nosso programa será muito simples e é mostrado na tabela abaixo.\n",
    "<table>\n",
    "    <tr>\n",
    "        <td><b>Percepção:</b> </td>\n",
    "        <td>Feel Food </td>\n",
    "        <td>Feel Water</td>\n",
    "        <td>Feel Nothing</td>\n",
    "   </tr>\n",
    "   <tr>\n",
    "       <td><b>Ação:</b> </td>\n",
    "       <td>eat</td>\n",
    "       <td>drink</td>\n",
    "       <td>move up</td>\n",
    "   </tr>\n",
    "        \n",
    "</table>"
   ]
  },
  {
   "cell_type": "code",
   "execution_count": null,
   "metadata": {},
   "outputs": [],
   "source": [
    "# Cria uma classe a partir do módulo agente\n",
    "class RoboDog(Agent):\n",
    "    location = 1\n",
    "    \n",
    "    def movedown(self):\n",
    "        self.location += 1\n",
    "        \n",
    "    def eat(self, thing):\n",
    "        '''Retorna True em caso de sucesso ou False caso contrário'''\n",
    "        if isinstance(thing, Food):\n",
    "            print(\"Robô Cão: Comeu às {}.\".format(self.location))\n",
    "            return True\n",
    "        return False\n",
    "    \n",
    "    def drink(self, thing):\n",
    "        '''Retorna True em caso de sucesso ou False caso contrário'''\n",
    "        if isinstance(thing, Water):\n",
    "            print(\"Robô Cão: Bebeu às {}.\".format(self.location))\n",
    "            return True\n",
    "        return False\n",
    "        \n",
    "def program(percepts):\n",
    "    '''Retorna uma ação baseada em suas percepções'''\n",
    "    for p in percepts:\n",
    "        if isinstance(p, Food):\n",
    "            return 'eat'\n",
    "        elif isinstance(p, Water):\n",
    "            return 'drink'\n",
    "    return 'move down'"
   ]
  },
  {
   "cell_type": "code",
   "execution_count": null,
   "metadata": {},
   "outputs": [],
   "source": [
    "park = Park()\n",
    "dog = RoboDog(program)"
   ]
  },
  {
   "cell_type": "code",
   "execution_count": null,
   "metadata": {},
   "outputs": [],
   "source": [
    "comida = Food()"
   ]
  },
  {
   "cell_type": "code",
   "execution_count": null,
   "metadata": {},
   "outputs": [],
   "source": [
    "agua = Water()"
   ]
  },
  {
   "cell_type": "code",
   "execution_count": null,
   "metadata": {},
   "outputs": [],
   "source": [
    "park.add_thing(dog, 0)\n",
    "park.add_thing(comida, 5)\n",
    "park.add_thing(agua, 7)"
   ]
  },
  {
   "cell_type": "code",
   "execution_count": null,
   "metadata": {},
   "outputs": [],
   "source": [
    "park.run(10)"
   ]
  },
  {
   "cell_type": "markdown",
   "metadata": {},
   "source": [
    "## Fim"
   ]
  }
 ],
 "metadata": {
  "anaconda-cloud": {},
  "kernelspec": {
   "display_name": "Python 3 (ipykernel)",
   "language": "python",
   "name": "python3"
  },
  "language_info": {
   "codemirror_mode": {
    "name": "ipython",
    "version": 3
   },
   "file_extension": ".py",
   "mimetype": "text/x-python",
   "name": "python",
   "nbconvert_exporter": "python",
   "pygments_lexer": "ipython3",
   "version": "3.9.7"
  }
 },
 "nbformat": 4,
 "nbformat_minor": 1
}
